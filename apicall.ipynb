{
 "cells": [
  {
   "cell_type": "code",
   "execution_count": 55,
   "metadata": {},
   "outputs": [
    {
     "name": "stdout",
     "output_type": "stream",
     "text": [
      "Error: API request failed for FDC ID 1750340\n",
      "Status code: 429\n",
      "Response text: {\n",
      "  \"error\": {\n",
      "    \"code\": \"OVER_RATE_LIMIT\",\n",
      "    \"message\": \"You have exceeded your rate limit. Try again later or contact us at https://api.nal.usda.gov:443/contact/ for assistance\"\n",
      "  }\n",
      "}\n"
     ]
    }
   ],
   "source": [
    "import requests\n",
    "\n",
    "def get_nutrients(fdc_ids):\n",
    "    # Initialize a dictionary to store the results\n",
    "    results = {}\n",
    "\n",
    "    # Iterate over the FoodData Central IDs\n",
    "    for fdc_id in fdc_ids:\n",
    "        # Define the API endpoint URL\n",
    "        url = f\"https://api.nal.usda.gov/fdc/v1/food/{fdc_id}\"\n",
    "\n",
    "        # Define the query parameters\n",
    "        params = {\"api_key\": \"B2Gehrdg2uN9J0Rk1o8PGrdRIL8ojBo3aaJOjxRb\"}\n",
    "\n",
    "        # Send the GET request\n",
    "        response = requests.get(url, params=params)\n",
    "\n",
    "        # Check if the request was successful (status code 200)\n",
    "        if response.status_code == 200:\n",
    "            # Extract the JSON data from the response\n",
    "            data = response.json()\n",
    "\n",
    "            # Extract the food name\n",
    "            food_name = data[\"description\"]\n",
    "\n",
    "            # Initialize the nutrients data dictionary with the food name\n",
    "            nutrients_data = {\"name\": food_name}\n",
    "\n",
    "            # Extract the nutrients data\n",
    "            for nutrient in data[\"foodNutrients\"]:\n",
    "                nutrient_name = nutrient[\"nutrient\"][\"name\"]\n",
    "                nutrients_data[nutrient_name] = nutrient.get(\"amount\", None)\n",
    "\n",
    "            # Store the nutrients data in the results dictionary\n",
    "            results[fdc_id] = nutrients_data\n",
    "        else:\n",
    "            print(f\"Error: API request failed for FDC ID {fdc_id}\")\n",
    "            print(\"Status code:\", response.status_code)\n",
    "            print(\"Response text:\", response.text)\n",
    "\n",
    "    # Return the results\n",
    "    return results\n",
    "\n",
    "# Define the FoodData Central IDs\n",
    "fdc_ids = [\"1750340\", \"2003590\"]\n",
    "\n",
    "# Call the function and store the results\n",
    "results = get_nutrients(fdc_ids)"
   ]
  },
  {
   "cell_type": "code",
   "execution_count": 50,
   "metadata": {},
   "outputs": [
    {
     "name": "stdout",
     "output_type": "stream",
     "text": [
      "Error: API request failed for FDC ID 1750340\n",
      "Error: API request failed for FDC ID 2003590\n",
      "{}\n"
     ]
    }
   ],
   "source": [
    "# Define the FoodData Central IDs\n",
    "fdc_ids = [\"1750340\", \"2003590\"]\n",
    "\n",
    "# Call the function and store the results\n",
    "results = get_nutrients(fdc_ids)\n",
    "\n",
    "# Print the results in a readable format\n",
    "pprint(results)\n"
   ]
  },
  {
   "cell_type": "code",
   "execution_count": null,
   "metadata": {},
   "outputs": [],
   "source": []
  }
 ],
 "metadata": {
  "kernelspec": {
   "display_name": ".venv",
   "language": "python",
   "name": "python3"
  },
  "language_info": {
   "codemirror_mode": {
    "name": "ipython",
    "version": 3
   },
   "file_extension": ".py",
   "mimetype": "text/x-python",
   "name": "python",
   "nbconvert_exporter": "python",
   "pygments_lexer": "ipython3",
   "version": "3.11.6"
  }
 },
 "nbformat": 4,
 "nbformat_minor": 2
}
